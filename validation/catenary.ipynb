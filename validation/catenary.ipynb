{
 "cells": [
  {
   "cell_type": "code",
   "execution_count": 11,
   "metadata": {
    "collapsed": true
   },
   "outputs": [],
   "source": [
    "from DAVE import *\n",
    "import matplotlib.pyplot as plt\n",
    "from scipy.optimize import fsolve\n",
    "from numpy import sinh, cosh, sqrt"
   ]
  },
  {
   "cell_type": "code",
   "execution_count": 12,
   "outputs": [],
   "source": [
    "mass_per_lengh = 1\n",
    "length = 80\n",
    "EA = 1e6    # <-- should be a high number as the analytical equation does not account for stretch\n",
    "segments = 100\n",
    "width = 60"
   ],
   "metadata": {
    "collapsed": false,
    "pycharm": {
     "name": "#%%\n"
    }
   }
  },
  {
   "cell_type": "code",
   "execution_count": 13,
   "outputs": [
    {
     "name": "stdout",
     "output_type": "stream",
     "text": [
      "T0 (horizontal tension = [217.7983993]\n"
     ]
    }
   ],
   "source": [
    "# analytical\n",
    "\n",
    "\n",
    "\n",
    "# We know the width and length of the catenary\n",
    "# The standard formula for a catenary describe half of a symmetric catenary\n",
    "\n",
    "s =  length / 2\n",
    "x =  width / 2\n",
    "\n",
    "# solve s = a sinh(x/a)\n",
    "\n",
    "def should_be_zero(a):\n",
    "    return a * sinh(x/a) - s\n",
    "\n",
    "a_guess = 1\n",
    "a = fsolve(should_be_zero, a_guess)\n",
    "\n",
    "T0 = a * mass_per_lengh * 9.81\n",
    "\n",
    "print(f'T0 (horizontal tension = {T0}')"
   ],
   "metadata": {
    "collapsed": false,
    "pycharm": {
     "name": "#%%\n"
    }
   }
  },
  {
   "cell_type": "code",
   "execution_count": 14,
   "outputs": [],
   "source": [
    "s = Scene()\n",
    "p1 = s.new_poi('p1',position=(-width/2,0,0))\n",
    "p2 = s.new_poi('p2',position=(width/2,0,0))"
   ],
   "metadata": {
    "collapsed": false,
    "pycharm": {
     "name": "#%%\n"
    }
   }
  },
  {
   "cell_type": "code",
   "execution_count": 15,
   "outputs": [
    {
     "data": {
      "text/plain": "<DAVE.scene.Cable at 0x1959143da08>"
     },
     "execution_count": 15,
     "metadata": {},
     "output_type": "execute_result"
    }
   ],
   "source": [
    "# construct the catenary\n",
    "\n",
    "\n",
    "mass_per_body = mass_per_lengh * length / segments\n",
    "\n",
    "for i in range(segments):\n",
    "    b = s.new_rigidbody(name = f'body{i}', mass = mass_per_body,\n",
    "                        fixed=(False,True,False,True,True,True))  # only free in X and Z\n",
    "    s.new_poi(f'poi{i}', parent=b)\n",
    "\n",
    "for i in range(segments-1):\n",
    "    s.new_cable(f'cable{i}',\n",
    "                poiA = f'poi{i}',\n",
    "                poiB = f'poi{i+1}',\n",
    "                length = length/segments,\n",
    "                EA = EA)\n",
    "\n",
    "s.new_cable(f'cable_left',\n",
    "            poiA = 'p1',\n",
    "            poiB = 'poi0',\n",
    "            length = 0.5*length/segments,\n",
    "            EA = EA)\n",
    "\n",
    "s.new_cable(f'cable_right',\n",
    "            poiA = f'poi{segments-1}',\n",
    "            poiB = 'p2',\n",
    "            length = 0.5*length/segments,\n",
    "            EA = EA)\n",
    "\n",
    "\n"
   ],
   "metadata": {
    "collapsed": false,
    "pycharm": {
     "name": "#%%\n"
    }
   }
  },
  {
   "cell_type": "code",
   "execution_count": 16,
   "outputs": [
    {
     "name": "stdout",
     "output_type": "stream",
     "text": [
      "Solved to 4.039179657411296e-09.\n"
     ]
    },
    {
     "data": {
      "text/plain": "True"
     },
     "execution_count": 16,
     "metadata": {},
     "output_type": "execute_result"
    }
   ],
   "source": [
    "# Gui(s)\n",
    "\n",
    "s.solve_statics()"
   ],
   "metadata": {
    "collapsed": false,
    "pycharm": {
     "name": "#%%\n"
    }
   }
  },
  {
   "cell_type": "code",
   "execution_count": 17,
   "outputs": [
    {
     "name": "stdout",
     "output_type": "stream",
     "text": [
      "End 1 = 217.62959607329856\n",
      "End 2 = 217.62959607511905\n",
      "Expected = [217.7983993]\n"
     ]
    }
   ],
   "source": [
    "# Check horizontal tension at the endpoints\n",
    "\n",
    "T0_p1 = s['p1'].applied_force_and_moment_global[0]\n",
    "T0_p2 = -s['p2'].applied_force_and_moment_global[0]\n",
    "\n",
    "print(f'End 1 = {T0_p1}')\n",
    "print(f'End 2 = {T0_p2}')\n",
    "print(f'Expected = {T0}')"
   ],
   "metadata": {
    "collapsed": false,
    "pycharm": {
     "name": "#%%\n"
    }
   }
  },
  {
   "cell_type": "code",
   "execution_count": 18,
   "outputs": [
    {
     "data": {
      "text/plain": "Text(0.5, 0, 'internal point nr')"
     },
     "execution_count": 18,
     "metadata": {},
     "output_type": "execute_result"
    },
    {
     "data": {
      "text/plain": "<Figure size 432x288 with 1 Axes>",
      "image/png": "[encoded data removed]"
     },
     "metadata": {
      "needs_background": "light"
     },
     "output_type": "display_data"
    }
   ],
   "source": [
    "# Check the horizontal tension in the cable\n",
    "# Two cables are connected to each of the internal points. Both cables should have the same horizontal\n",
    "# tension and pull in opposite direction. Hence the total horizontal force on each of the internal pois\n",
    "# should be zero\n",
    "\n",
    "fx = []\n",
    "for i in range(segments):\n",
    "    poi = s[f'poi{i}']\n",
    "    fx.append(poi.applied_force_and_moment_global[0])\n",
    "\n",
    "plt.bar(range(segments),fx)\n",
    "plt.title('Difference in horizontal tension throughout the cable, should be zero')\n",
    "plt.xlabel('internal point nr')"
   ],
   "metadata": {
    "collapsed": false,
    "pycharm": {
     "name": "#%%\n"
    }
   }
  },
  {
   "cell_type": "code",
   "execution_count": 19,
   "outputs": [
    {
     "name": "stdout",
     "output_type": "stream",
     "text": [
      "-0.16880322576724893\n",
      "-0.16880322999242026\n"
     ]
    },
    {
     "data": {
      "text/plain": "<Figure size 432x288 with 1 Axes>",
      "image/png": "[encoded data removed]"
     },
     "metadata": {
      "needs_background": "light"
     },
     "output_type": "display_data"
    }
   ],
   "source": [
    "# we can also get the horizontal component from the cable tension\n",
    "# and the cable direction\n",
    "T0_cables_error = []\n",
    "\n",
    "for cable in s.nodes_of_type(Cable):\n",
    "    tension = cable.tension\n",
    "    endA = cable.connections[0]  # the the endpoints\n",
    "    endB = cable.connections[1]\n",
    "\n",
    "    dx = endB.gx - endA.gx        # the horizontal distance\n",
    "    dz = endB.gz - endA.gz\n",
    "    ds = sqrt(dx*dx + dz*dz)\n",
    "\n",
    "    Th = tension * dx / ds\n",
    "\n",
    "    T0_cables_error.append(Th - T0)\n",
    "\n",
    "plt.plot(T0_cables_error)\n",
    "plt.title('T0 in cable nodes')\n",
    "plt.ylabel('error [kN]')\n",
    "plt.xlabel('internal cable nr')\n",
    "\n",
    "import numpy as np\n",
    "\n",
    "print(np.max(T0_cables_error))\n",
    "print(np.min(T0_cables_error))"
   ],
   "metadata": {
    "collapsed": false,
    "pycharm": {
     "name": "#%%\n"
    }
   }
  },
  {
   "cell_type": "code",
   "execution_count": 20,
   "outputs": [
    {
     "data": {
      "text/plain": "<Figure size 432x288 with 1 Axes>",
      "image/png": "[encoded data removed]"
     },
     "metadata": {
      "needs_background": "light"
     },
     "output_type": "display_data"
    }
   ],
   "source": [
    "def y_analytical(x):\n",
    "    return a * cosh(x/a)\n",
    "\n",
    "xs = np.linspace(-x, x, num=100)\n",
    "ys = y_analytical(xs)\n",
    "y0 = y_analytical(x)\n",
    "\n",
    "plt.plot(xs, ys-y0, label='analytical')\n",
    "\n",
    "for b in s.nodes_of_type(RigidBody):\n",
    "    plt.plot(b.gx, b.gz,'r.')"
   ],
   "metadata": {
    "collapsed": false,
    "pycharm": {
     "name": "#%% Check the shape\n"
    }
   }
  },
  {
   "cell_type": "code",
   "execution_count": 20,
   "outputs": [],
   "source": [
    "\n"
   ],
   "metadata": {
    "collapsed": false,
    "pycharm": {
     "name": "#%%\n"
    }
   }
  }
 ],
 "metadata": {
  "kernelspec": {
   "display_name": "Python 3",
   "language": "python",
   "name": "python3"
  },
  "language_info": {
   "codemirror_mode": {
    "name": "ipython",
    "version": 2
   },
   "file_extension": ".py",
   "mimetype": "text/x-python",
   "name": "python",
   "nbconvert_exporter": "python",
   "pygments_lexer": "ipython2",
   "version": "2.7.6"
  }
 },
 "nbformat": 4,
 "nbformat_minor": 0
}